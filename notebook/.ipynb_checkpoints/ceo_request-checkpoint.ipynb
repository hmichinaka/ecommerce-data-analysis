{
 "cells": [
  {
   "cell_type": "markdown",
   "metadata": {},
   "source": [
    "# CEO-Request Challenge"
   ]
  },
  {
   "cell_type": "markdown",
   "metadata": {},
   "source": [
    "## Problem statement (summarized)\n",
    "\n",
    "How should Olist improve it's profit margin, given that it has\n",
    "- revenues per sellers per months\n",
    "- revenues per orders\n",
    "- reputation costs (estimated) per bad reviews\n",
    "- operational costs of IT system that grows with number of orders, but not linearly (scale effects)\n",
    "\n",
    "We advise you to start with the following analysis\n",
    "\n",
    "🕵🏻 **Should Olist remove underperforming sellers from its marketplace ?**\n",
    "\n",
    "To analyse the impact of removing the worse sellers from Olist's marketplace, we will perform a what-if analysis: What would have happened if Olist had never accepted these sellers in the first place? (granted, it's hard to know in advance who is a good seller, but let's start with this and iterate later).\n",
    "\n",
    "1️⃣ Compute, for each `seller_id`, and cumulated since the beginning:\n",
    "- the `revenues` it brings\n",
    "- the `costs` associated with all its bad reviews\n",
    "- the resulting `profits` (revenues - costs)\n",
    "- the number of `orders` (it will impact the overall IT costs)\n",
    "\n",
    "\n",
    "2️⃣ We can then:\n",
    "- sort sellers by increasing profits for Olist\n",
    "- for each number of sellers to remove, compute the financial impact it would have made if they had never been accepted on the platform. \n",
    "- we may find an optimal number of sellers to remove that maximizes Olist's profit margin\n",
    "\n",
    "👉 Write down a detailed strategy (step by step) to create the DataFrame you need for the first step.\n",
    "\n",
    "💡Think about how to re-use or update the logic you've already coded in your 🗂 `olist` package\n",
    "\n",
    "<details>\n",
    "    <summary>- <i>Hints</i> -</summary>\n",
    "\n",
    "\n",
    "Starting from your current `seller().get_training_data()` DataFrame, can you easily transform it to compute:\n",
    "- Olist's positive `revenue_per_seller`? \n",
    "- Olist's `cost_of_bad_reviews`?\n",
    "\n",
    "⚠️ Do no start from scratch ! Investigate your source code in `seller.py` : \n",
    "\n",
    "</details>\n"
   ]
  },
  {
   "cell_type": "markdown",
   "metadata": {},
   "source": [
    "## Your turn!"
   ]
  },
  {
   "cell_type": "markdown",
   "metadata": {},
   "source": [
    "🧺 Keep this notebook tidy! \n",
    "\n",
    "📅 🗣 📊 You will present your insights to Olist's CEO next time, after the `Communicate your Data Analysis insights` day!"
   ]
  },
  {
   "cell_type": "markdown",
   "metadata": {},
   "source": [
    "-----------------"
   ]
  },
  {
   "cell_type": "markdown",
   "metadata": {},
   "source": [
    "# 0. ToC\n",
    " 1. Introduction\n",
    " 2. Collecting & Cleaning \n",
    " 3. Exploratory Data Analysis\n",
    " 4. Model Building\n",
    " 5. Model Deployment"
   ]
  },
  {
   "cell_type": "code",
   "execution_count": null,
   "metadata": {},
   "outputs": [],
   "source": [
    "Memo from the lecture\n",
    "Inductive way: Action/Answer first > How > Why\n",
    "How can the company reduce its cost by 10%"
   ]
  },
  {
   "cell_type": "markdown",
   "metadata": {},
   "source": [
    "# 1. Introduction"
   ]
  },
  {
   "cell_type": "markdown",
   "metadata": {},
   "source": [
    "**Revenue**\n",
    "\n",
    "- Olist takes a 10% cut on the product price (excl. freight) of each order delivered.\n",
    "- Olist charges 80 BRL by month per seller.\n",
    "\n",
    "**Cost**\n",
    "\n",
    "- Estimated cost occured by bad review\n",
    "\n",
    "|review_score|\tcost (BRL)|\n",
    "|:---:|:---:|\n",
    "|1 star|100|\n",
    "|2 stars|50|\n",
    "|3 stars|40|\n",
    "|4 stars|0|\n",
    "|5 stars|0|\n",
    "\n",
    "- IT costss\n",
    "\n",
    "Olist's IT costs are estimated to be proportional to *the square-root of the total cumlated number of orders approved*.\n",
    "\n",
    "The IT department also told you that since the birth of the marketplace, cumulated IT costs have amounted to 500,000 BRL."
   ]
  },
  {
   "cell_type": "code",
   "execution_count": 3,
   "metadata": {},
   "outputs": [
    {
     "ename": "SyntaxError",
     "evalue": "invalid syntax (2214378558.py, line 1)",
     "output_type": "error",
     "traceback": [
      "\u001b[0;36m  File \u001b[0;32m\"/var/folders/hq/7b01rp5n34v58yn0csjrs8v40000gn/T/ipykernel_5870/2214378558.py\"\u001b[0;36m, line \u001b[0;32m1\u001b[0m\n\u001b[0;31m    2. Coding\u001b[0m\n\u001b[0m       ^\u001b[0m\n\u001b[0;31mSyntaxError\u001b[0m\u001b[0;31m:\u001b[0m invalid syntax\n"
     ]
    }
   ],
   "source": [
    "2. Data Cela"
   ]
  },
  {
   "cell_type": "code",
   "execution_count": 1,
   "metadata": {},
   "outputs": [],
   "source": [
    "%load_ext autoreload\n",
    "%autoreload 2\n",
    "\n",
    "import pandas as pd\n",
    "import numpy as np \n",
    "import matplotlib.pyplot as plt\n",
    "import seaborn as sns\n",
    "import statsmodels.formula.api as smf"
   ]
  },
  {
   "cell_type": "code",
   "execution_count": 2,
   "metadata": {},
   "outputs": [
    {
     "data": {
      "text/html": [
       "<div>\n",
       "<style scoped>\n",
       "    .dataframe tbody tr th:only-of-type {\n",
       "        vertical-align: middle;\n",
       "    }\n",
       "\n",
       "    .dataframe tbody tr th {\n",
       "        vertical-align: top;\n",
       "    }\n",
       "\n",
       "    .dataframe thead th {\n",
       "        text-align: right;\n",
       "    }\n",
       "</style>\n",
       "<table border=\"1\" class=\"dataframe\">\n",
       "  <thead>\n",
       "    <tr style=\"text-align: right;\">\n",
       "      <th></th>\n",
       "      <th>seller_id</th>\n",
       "      <th>seller_city</th>\n",
       "      <th>seller_state</th>\n",
       "      <th>delay_to_carrier</th>\n",
       "      <th>wait_time</th>\n",
       "      <th>date_first_sale</th>\n",
       "      <th>date_last_sale</th>\n",
       "      <th>months_on_olist</th>\n",
       "      <th>n_orders</th>\n",
       "      <th>quantity</th>\n",
       "      <th>quantity_per_order</th>\n",
       "      <th>sales</th>\n",
       "      <th>share_of_one_stars</th>\n",
       "      <th>share_of_five_stars</th>\n",
       "      <th>review_score</th>\n",
       "    </tr>\n",
       "  </thead>\n",
       "  <tbody>\n",
       "    <tr>\n",
       "      <th>0</th>\n",
       "      <td>3442f8959a84dea7ee197c632cb2df15</td>\n",
       "      <td>campinas</td>\n",
       "      <td>SP</td>\n",
       "      <td>0.0</td>\n",
       "      <td>13.018588</td>\n",
       "      <td>2017-05-05 16:25:11</td>\n",
       "      <td>2017-08-30 12:50:19</td>\n",
       "      <td>4.0</td>\n",
       "      <td>3</td>\n",
       "      <td>3</td>\n",
       "      <td>1.000</td>\n",
       "      <td>218.70</td>\n",
       "      <td>0.333333</td>\n",
       "      <td>0.333333</td>\n",
       "      <td>3.00</td>\n",
       "    </tr>\n",
       "    <tr>\n",
       "      <th>1</th>\n",
       "      <td>d1b65fc7debc3361ea86b5f14c68d2e2</td>\n",
       "      <td>mogi guacu</td>\n",
       "      <td>SP</td>\n",
       "      <td>0.0</td>\n",
       "      <td>9.065716</td>\n",
       "      <td>2017-03-29 02:10:34</td>\n",
       "      <td>2018-06-06 20:15:21</td>\n",
       "      <td>14.0</td>\n",
       "      <td>40</td>\n",
       "      <td>41</td>\n",
       "      <td>1.025</td>\n",
       "      <td>11703.07</td>\n",
       "      <td>0.050000</td>\n",
       "      <td>0.725000</td>\n",
       "      <td>4.55</td>\n",
       "    </tr>\n",
       "    <tr>\n",
       "      <th>2</th>\n",
       "      <td>ce3ad9de960102d0677a81f5d0bb7b2d</td>\n",
       "      <td>rio de janeiro</td>\n",
       "      <td>RJ</td>\n",
       "      <td>0.0</td>\n",
       "      <td>4.042292</td>\n",
       "      <td>2018-07-30 12:44:49</td>\n",
       "      <td>2018-07-30 12:44:49</td>\n",
       "      <td>0.0</td>\n",
       "      <td>1</td>\n",
       "      <td>1</td>\n",
       "      <td>1.000</td>\n",
       "      <td>158.00</td>\n",
       "      <td>0.000000</td>\n",
       "      <td>1.000000</td>\n",
       "      <td>5.00</td>\n",
       "    </tr>\n",
       "  </tbody>\n",
       "</table>\n",
       "</div>"
      ],
      "text/plain": [
       "                          seller_id     seller_city seller_state  \\\n",
       "0  3442f8959a84dea7ee197c632cb2df15        campinas           SP   \n",
       "1  d1b65fc7debc3361ea86b5f14c68d2e2      mogi guacu           SP   \n",
       "2  ce3ad9de960102d0677a81f5d0bb7b2d  rio de janeiro           RJ   \n",
       "\n",
       "   delay_to_carrier  wait_time     date_first_sale      date_last_sale  \\\n",
       "0               0.0  13.018588 2017-05-05 16:25:11 2017-08-30 12:50:19   \n",
       "1               0.0   9.065716 2017-03-29 02:10:34 2018-06-06 20:15:21   \n",
       "2               0.0   4.042292 2018-07-30 12:44:49 2018-07-30 12:44:49   \n",
       "\n",
       "   months_on_olist  n_orders  quantity  quantity_per_order     sales  \\\n",
       "0              4.0         3         3               1.000    218.70   \n",
       "1             14.0        40        41               1.025  11703.07   \n",
       "2              0.0         1         1               1.000    158.00   \n",
       "\n",
       "   share_of_one_stars  share_of_five_stars  review_score  \n",
       "0            0.333333             0.333333          3.00  \n",
       "1            0.050000             0.725000          4.55  \n",
       "2            0.000000             1.000000          5.00  "
      ]
     },
     "execution_count": 2,
     "metadata": {},
     "output_type": "execute_result"
    }
   ],
   "source": [
    "#Import Sellers\n",
    "from olist.seller import Seller\n",
    "sellers = Seller().get_training_data()\n",
    "sellers.head(3)"
   ]
  },
  {
   "cell_type": "code",
   "execution_count": 3,
   "metadata": {
    "scrolled": true
   },
   "outputs": [],
   "source": [
    "#Import Orders\n",
    "from olist.data import Olist\n",
    "from olist.order import Order\n",
    "data = Olist().get_data()\n",
    "orders = Order().get_training_data()"
   ]
  },
  {
   "cell_type": "code",
   "execution_count": 4,
   "metadata": {
    "scrolled": true
   },
   "outputs": [
    {
     "data": {
      "text/html": [
       "<div>\n",
       "<style scoped>\n",
       "    .dataframe tbody tr th:only-of-type {\n",
       "        vertical-align: middle;\n",
       "    }\n",
       "\n",
       "    .dataframe tbody tr th {\n",
       "        vertical-align: top;\n",
       "    }\n",
       "\n",
       "    .dataframe thead th {\n",
       "        text-align: right;\n",
       "    }\n",
       "</style>\n",
       "<table border=\"1\" class=\"dataframe\">\n",
       "  <thead>\n",
       "    <tr style=\"text-align: right;\">\n",
       "      <th></th>\n",
       "      <th>order_id</th>\n",
       "      <th>dim_is_five_star</th>\n",
       "      <th>dim_is_one_star</th>\n",
       "      <th>review_score</th>\n",
       "      <th>seller_id</th>\n",
       "    </tr>\n",
       "  </thead>\n",
       "  <tbody>\n",
       "    <tr>\n",
       "      <th>0</th>\n",
       "      <td>73fc7af87114b39712e6da79b0a377eb</td>\n",
       "      <td>0</td>\n",
       "      <td>0</td>\n",
       "      <td>4</td>\n",
       "      <td>6d803cb79cc31c41c4c789a75933b3c7</td>\n",
       "    </tr>\n",
       "    <tr>\n",
       "      <th>1</th>\n",
       "      <td>a548910a1c6147796b98fdf73dbeba33</td>\n",
       "      <td>1</td>\n",
       "      <td>0</td>\n",
       "      <td>5</td>\n",
       "      <td>8e6d7754bc7e0f22c96d255ebda59eba</td>\n",
       "    </tr>\n",
       "    <tr>\n",
       "      <th>2</th>\n",
       "      <td>f9e4b658b201a9f2ecdecbb34bed034b</td>\n",
       "      <td>1</td>\n",
       "      <td>0</td>\n",
       "      <td>5</td>\n",
       "      <td>a1043bafd471dff536d0c462352beb48</td>\n",
       "    </tr>\n",
       "    <tr>\n",
       "      <th>3</th>\n",
       "      <td>658677c97b385a9be170737859d3511b</td>\n",
       "      <td>1</td>\n",
       "      <td>0</td>\n",
       "      <td>5</td>\n",
       "      <td>a1043bafd471dff536d0c462352beb48</td>\n",
       "    </tr>\n",
       "    <tr>\n",
       "      <th>4</th>\n",
       "      <td>8e6bfb81e283fa7e4f11123a3fb894f1</td>\n",
       "      <td>1</td>\n",
       "      <td>0</td>\n",
       "      <td>5</td>\n",
       "      <td>989becdce12ebc39863c2bceab6f3ca1</td>\n",
       "    </tr>\n",
       "  </tbody>\n",
       "</table>\n",
       "</div>"
      ],
      "text/plain": [
       "                           order_id  dim_is_five_star  dim_is_one_star  \\\n",
       "0  73fc7af87114b39712e6da79b0a377eb                 0                0   \n",
       "1  a548910a1c6147796b98fdf73dbeba33                 1                0   \n",
       "2  f9e4b658b201a9f2ecdecbb34bed034b                 1                0   \n",
       "3  658677c97b385a9be170737859d3511b                 1                0   \n",
       "4  8e6bfb81e283fa7e4f11123a3fb894f1                 1                0   \n",
       "\n",
       "   review_score                         seller_id  \n",
       "0             4  6d803cb79cc31c41c4c789a75933b3c7  \n",
       "1             5  8e6d7754bc7e0f22c96d255ebda59eba  \n",
       "2             5  a1043bafd471dff536d0c462352beb48  \n",
       "3             5  a1043bafd471dff536d0c462352beb48  \n",
       "4             5  989becdce12ebc39863c2bceab6f3ca1  "
      ]
     },
     "execution_count": 4,
     "metadata": {},
     "output_type": "execute_result"
    }
   ],
   "source": [
    "#Merge Sellers to Orders\n",
    "orders_reviews = Order().get_review_score()\n",
    "orders_sellers = data['order_items'][['order_id', 'seller_id']].drop_duplicates()\n",
    "df = orders_reviews.merge(orders_sellers, on='order_id')\n",
    "df.head()"
   ]
  },
  {
   "cell_type": "code",
   "execution_count": 5,
   "metadata": {},
   "outputs": [
    {
     "data": {
      "text/html": [
       "<div>\n",
       "<style scoped>\n",
       "    .dataframe tbody tr th:only-of-type {\n",
       "        vertical-align: middle;\n",
       "    }\n",
       "\n",
       "    .dataframe tbody tr th {\n",
       "        vertical-align: top;\n",
       "    }\n",
       "\n",
       "    .dataframe thead th {\n",
       "        text-align: right;\n",
       "    }\n",
       "</style>\n",
       "<table border=\"1\" class=\"dataframe\">\n",
       "  <thead>\n",
       "    <tr style=\"text-align: right;\">\n",
       "      <th></th>\n",
       "      <th>seller_id</th>\n",
       "      <th>dim_is_five_star</th>\n",
       "      <th>dim_is_one_star</th>\n",
       "      <th>review_score</th>\n",
       "      <th>cost</th>\n",
       "    </tr>\n",
       "  </thead>\n",
       "  <tbody>\n",
       "    <tr>\n",
       "      <th>0</th>\n",
       "      <td>0015a82c2db000af6aaaf3ae2ecb0532</td>\n",
       "      <td>2</td>\n",
       "      <td>1</td>\n",
       "      <td>3.666667</td>\n",
       "      <td>100</td>\n",
       "    </tr>\n",
       "    <tr>\n",
       "      <th>1</th>\n",
       "      <td>001cca7ae9ae17fb1caed9dfb1094831</td>\n",
       "      <td>104</td>\n",
       "      <td>24</td>\n",
       "      <td>3.984772</td>\n",
       "      <td>3560</td>\n",
       "    </tr>\n",
       "    <tr>\n",
       "      <th>2</th>\n",
       "      <td>001e6ad469a905060d959994f1b41e4f</td>\n",
       "      <td>0</td>\n",
       "      <td>1</td>\n",
       "      <td>1.000000</td>\n",
       "      <td>100</td>\n",
       "    </tr>\n",
       "  </tbody>\n",
       "</table>\n",
       "</div>"
      ],
      "text/plain": [
       "                          seller_id  dim_is_five_star  dim_is_one_star  \\\n",
       "0  0015a82c2db000af6aaaf3ae2ecb0532                 2                1   \n",
       "1  001cca7ae9ae17fb1caed9dfb1094831               104               24   \n",
       "2  001e6ad469a905060d959994f1b41e4f                 0                1   \n",
       "\n",
       "   review_score  cost  \n",
       "0      3.666667   100  \n",
       "1      3.984772  3560  \n",
       "2      1.000000   100  "
      ]
     },
     "execution_count": 5,
     "metadata": {},
     "output_type": "execute_result"
    }
   ],
   "source": [
    "#Calculate the cost for bad reviews and merge\n",
    "df['cost'] = df['review_score'].map(lambda x: 100 if x == 1 else 50 if x == 2 else 40 if x== 3 else 0)\n",
    "df2 = df.groupby('seller_id', as_index=False).agg({'dim_is_five_star':'sum', 'dim_is_one_star':'sum', 'review_score': 'mean', 'cost':'sum'})\n",
    "df2.head(3)"
   ]
  },
  {
   "cell_type": "code",
   "execution_count": 6,
   "metadata": {
    "scrolled": true
   },
   "outputs": [
    {
     "data": {
      "text/html": [
       "<div>\n",
       "<style scoped>\n",
       "    .dataframe tbody tr th:only-of-type {\n",
       "        vertical-align: middle;\n",
       "    }\n",
       "\n",
       "    .dataframe tbody tr th {\n",
       "        vertical-align: top;\n",
       "    }\n",
       "\n",
       "    .dataframe thead th {\n",
       "        text-align: right;\n",
       "    }\n",
       "</style>\n",
       "<table border=\"1\" class=\"dataframe\">\n",
       "  <thead>\n",
       "    <tr style=\"text-align: right;\">\n",
       "      <th></th>\n",
       "      <th>seller_id</th>\n",
       "      <th>dim_is_five_star</th>\n",
       "      <th>dim_is_one_star</th>\n",
       "      <th>review_score</th>\n",
       "      <th>cost</th>\n",
       "      <th>sales</th>\n",
       "    </tr>\n",
       "  </thead>\n",
       "  <tbody>\n",
       "    <tr>\n",
       "      <th>0</th>\n",
       "      <td>0015a82c2db000af6aaaf3ae2ecb0532</td>\n",
       "      <td>2</td>\n",
       "      <td>1</td>\n",
       "      <td>3.666667</td>\n",
       "      <td>100</td>\n",
       "      <td>268.500</td>\n",
       "    </tr>\n",
       "    <tr>\n",
       "      <th>1</th>\n",
       "      <td>001cca7ae9ae17fb1caed9dfb1094831</td>\n",
       "      <td>104</td>\n",
       "      <td>24</td>\n",
       "      <td>3.984772</td>\n",
       "      <td>3560</td>\n",
       "      <td>2508.003</td>\n",
       "    </tr>\n",
       "    <tr>\n",
       "      <th>2</th>\n",
       "      <td>002100f778ceb8431b7a1020ff7ab48f</td>\n",
       "      <td>27</td>\n",
       "      <td>7</td>\n",
       "      <td>3.903846</td>\n",
       "      <td>1110</td>\n",
       "      <td>123.450</td>\n",
       "    </tr>\n",
       "  </tbody>\n",
       "</table>\n",
       "</div>"
      ],
      "text/plain": [
       "                          seller_id  dim_is_five_star  dim_is_one_star  \\\n",
       "0  0015a82c2db000af6aaaf3ae2ecb0532                 2                1   \n",
       "1  001cca7ae9ae17fb1caed9dfb1094831               104               24   \n",
       "2  002100f778ceb8431b7a1020ff7ab48f                27                7   \n",
       "\n",
       "   review_score  cost     sales  \n",
       "0      3.666667   100   268.500  \n",
       "1      3.984772  3560  2508.003  \n",
       "2      3.903846  1110   123.450  "
      ]
     },
     "execution_count": 6,
     "metadata": {},
     "output_type": "execute_result"
    }
   ],
   "source": [
    "#Calculate the sales\n",
    "sales = sellers.groupby('seller_id', as_index=False).agg({'sales':'sum'}, )\n",
    "sales['sales'] = sales['sales']/10\n",
    "sales\n",
    "#Merge sales to the main DataFrame\n",
    "df3 = df2.merge(sales[['sales', 'seller_id']], on='seller_id')\n",
    "df3.head(3)"
   ]
  },
  {
   "cell_type": "code",
   "execution_count": 7,
   "metadata": {},
   "outputs": [
    {
     "data": {
      "text/html": [
       "<div>\n",
       "<style scoped>\n",
       "    .dataframe tbody tr th:only-of-type {\n",
       "        vertical-align: middle;\n",
       "    }\n",
       "\n",
       "    .dataframe tbody tr th {\n",
       "        vertical-align: top;\n",
       "    }\n",
       "\n",
       "    .dataframe thead th {\n",
       "        text-align: right;\n",
       "    }\n",
       "</style>\n",
       "<table border=\"1\" class=\"dataframe\">\n",
       "  <thead>\n",
       "    <tr style=\"text-align: right;\">\n",
       "      <th></th>\n",
       "      <th>seller_id</th>\n",
       "      <th>n_orders</th>\n",
       "      <th>cost</th>\n",
       "      <th>revenues</th>\n",
       "      <th>monthly_fee</th>\n",
       "      <th>profit</th>\n",
       "    </tr>\n",
       "  </thead>\n",
       "  <tbody>\n",
       "    <tr>\n",
       "      <th>0</th>\n",
       "      <td>0015a82c2db000af6aaaf3ae2ecb0532</td>\n",
       "      <td>3</td>\n",
       "      <td>100</td>\n",
       "      <td>268.500</td>\n",
       "      <td>80.0</td>\n",
       "      <td>248.500</td>\n",
       "    </tr>\n",
       "    <tr>\n",
       "      <th>1</th>\n",
       "      <td>001cca7ae9ae17fb1caed9dfb1094831</td>\n",
       "      <td>200</td>\n",
       "      <td>3560</td>\n",
       "      <td>2508.003</td>\n",
       "      <td>1360.0</td>\n",
       "      <td>308.003</td>\n",
       "    </tr>\n",
       "    <tr>\n",
       "      <th>2</th>\n",
       "      <td>002100f778ceb8431b7a1020ff7ab48f</td>\n",
       "      <td>51</td>\n",
       "      <td>1110</td>\n",
       "      <td>123.450</td>\n",
       "      <td>560.0</td>\n",
       "      <td>-426.550</td>\n",
       "    </tr>\n",
       "  </tbody>\n",
       "</table>\n",
       "</div>"
      ],
      "text/plain": [
       "                          seller_id  n_orders  cost  revenues  monthly_fee  \\\n",
       "0  0015a82c2db000af6aaaf3ae2ecb0532         3   100   268.500         80.0   \n",
       "1  001cca7ae9ae17fb1caed9dfb1094831       200  3560  2508.003       1360.0   \n",
       "2  002100f778ceb8431b7a1020ff7ab48f        51  1110   123.450        560.0   \n",
       "\n",
       "    profit  \n",
       "0  248.500  \n",
       "1  308.003  \n",
       "2 -426.550  "
      ]
     },
     "execution_count": 7,
     "metadata": {},
     "output_type": "execute_result"
    }
   ],
   "source": [
    "#Calculate monthly fee then profit\n",
    "df4 = df3.merge(sellers[['seller_id', 'months_on_olist', 'n_orders']], on ='seller_id').rename(columns={'sales':'revenues'})\n",
    "df4['monthly_fee'] = df4['months_on_olist'] * 80 \n",
    "df4['profit'] = df4['revenues'] + df4['monthly_fee'] - df4['cost'] \n",
    "df4 = df4[['seller_id', 'n_orders', 'cost', 'revenues', 'monthly_fee', 'profit']]\n",
    "df4.head(3)"
   ]
  },
  {
   "cell_type": "code",
   "execution_count": 8,
   "metadata": {},
   "outputs": [
    {
     "data": {
      "text/plain": [
       "1618210"
      ]
     },
     "execution_count": 8,
     "metadata": {},
     "output_type": "execute_result"
    }
   ],
   "source": [
    "#Total cost from bad reviews\n",
    "df4['cost'].sum()"
   ]
  },
  {
   "cell_type": "code",
   "execution_count": 9,
   "metadata": {},
   "outputs": [
    {
     "data": {
      "text/plain": [
       "1355578.444"
      ]
     },
     "execution_count": 9,
     "metadata": {},
     "output_type": "execute_result"
    }
   ],
   "source": [
    "#10% of total sales of all sales \n",
    "df4['revenues'].sum()"
   ]
  },
  {
   "cell_type": "code",
   "execution_count": 10,
   "metadata": {},
   "outputs": [
    {
     "data": {
      "text/plain": [
       "456.88521873946746"
      ]
     },
     "execution_count": 10,
     "metadata": {},
     "output_type": "execute_result"
    }
   ],
   "source": [
    "df4['revenues'].mean()"
   ]
  },
  {
   "cell_type": "code",
   "execution_count": 17,
   "metadata": {
    "scrolled": true
   },
   "outputs": [
    {
     "data": {
      "text/plain": [
       "89.6"
      ]
     },
     "execution_count": 17,
     "metadata": {},
     "output_type": "execute_result"
    }
   ],
   "source": [
    "df4['revenues'].median()"
   ]
  },
  {
   "cell_type": "code",
   "execution_count": 45,
   "metadata": {},
   "outputs": [
    {
     "data": {
      "text/plain": [
       "<AxesSubplot:xlabel='revenues', ylabel='Count'>"
      ]
     },
     "execution_count": 45,
     "metadata": {},
     "output_type": "execute_result"
    },
    {
     "data": {
      "image/png": "[encoded data removed]",
      "text/plain": [
       "<Figure size 432x288 with 1 Axes>"
      ]
     },
     "metadata": {
      "needs_background": "light"
     },
     "output_type": "display_data"
    }
   ],
   "source": [
    "sns.histplot(df4['revenues'], kde=True)"
   ]
  },
  {
   "cell_type": "code",
   "execution_count": 11,
   "metadata": {},
   "outputs": [
    {
     "data": {
      "text/plain": [
       "1167608.4440000001"
      ]
     },
     "execution_count": 11,
     "metadata": {},
     "output_type": "execute_result"
    }
   ],
   "source": [
    "#Total profit of Olist\n",
    "df4['profit'].sum()"
   ]
  },
  {
   "cell_type": "code",
   "execution_count": 12,
   "metadata": {},
   "outputs": [
    {
     "data": {
      "text/html": [
       "<div>\n",
       "<style scoped>\n",
       "    .dataframe tbody tr th:only-of-type {\n",
       "        vertical-align: middle;\n",
       "    }\n",
       "\n",
       "    .dataframe tbody tr th {\n",
       "        vertical-align: top;\n",
       "    }\n",
       "\n",
       "    .dataframe thead th {\n",
       "        text-align: right;\n",
       "    }\n",
       "</style>\n",
       "<table border=\"1\" class=\"dataframe\">\n",
       "  <thead>\n",
       "    <tr style=\"text-align: right;\">\n",
       "      <th></th>\n",
       "      <th>seller_id</th>\n",
       "      <th>n_orders</th>\n",
       "      <th>cost</th>\n",
       "      <th>revenues</th>\n",
       "      <th>monthly_fee</th>\n",
       "      <th>profit</th>\n",
       "    </tr>\n",
       "  </thead>\n",
       "  <tbody>\n",
       "    <tr>\n",
       "      <th>0</th>\n",
       "      <td>6560211a19b47992c3666cc44a7e94c0</td>\n",
       "      <td>1854</td>\n",
       "      <td>35290</td>\n",
       "      <td>12330.483</td>\n",
       "      <td>1440.0</td>\n",
       "      <td>-21519.517</td>\n",
       "    </tr>\n",
       "    <tr>\n",
       "      <th>1</th>\n",
       "      <td>4a3ca9315b744ce9f8e9374361493884</td>\n",
       "      <td>1806</td>\n",
       "      <td>39400</td>\n",
       "      <td>20047.292</td>\n",
       "      <td>1600.0</td>\n",
       "      <td>-17752.708</td>\n",
       "    </tr>\n",
       "    <tr>\n",
       "      <th>2</th>\n",
       "      <td>cc419e0650a3c5ba77189a1882b7556a</td>\n",
       "      <td>1706</td>\n",
       "      <td>29530</td>\n",
       "      <td>10428.842</td>\n",
       "      <td>1520.0</td>\n",
       "      <td>-17581.158</td>\n",
       "    </tr>\n",
       "    <tr>\n",
       "      <th>3</th>\n",
       "      <td>ea8482cd71df3c1969d7b9473ff13abc</td>\n",
       "      <td>1146</td>\n",
       "      <td>20220</td>\n",
       "      <td>3717.752</td>\n",
       "      <td>960.0</td>\n",
       "      <td>-15542.248</td>\n",
       "    </tr>\n",
       "    <tr>\n",
       "      <th>4</th>\n",
       "      <td>8b321bb669392f5163d04c59e235e066</td>\n",
       "      <td>943</td>\n",
       "      <td>15440</td>\n",
       "      <td>1753.569</td>\n",
       "      <td>800.0</td>\n",
       "      <td>-12886.431</td>\n",
       "    </tr>\n",
       "  </tbody>\n",
       "</table>\n",
       "</div>"
      ],
      "text/plain": [
       "                          seller_id  n_orders   cost   revenues  monthly_fee  \\\n",
       "0  6560211a19b47992c3666cc44a7e94c0      1854  35290  12330.483       1440.0   \n",
       "1  4a3ca9315b744ce9f8e9374361493884      1806  39400  20047.292       1600.0   \n",
       "2  cc419e0650a3c5ba77189a1882b7556a      1706  29530  10428.842       1520.0   \n",
       "3  ea8482cd71df3c1969d7b9473ff13abc      1146  20220   3717.752        960.0   \n",
       "4  8b321bb669392f5163d04c59e235e066       943  15440   1753.569        800.0   \n",
       "\n",
       "      profit  \n",
       "0 -21519.517  \n",
       "1 -17752.708  \n",
       "2 -17581.158  \n",
       "3 -15542.248  \n",
       "4 -12886.431  "
      ]
     },
     "execution_count": 12,
     "metadata": {},
     "output_type": "execute_result"
    }
   ],
   "source": [
    "#Worst sellers\n",
    "df4.sort_values(by='profit', ignore_index = True).head()"
   ]
  },
  {
   "cell_type": "code",
   "execution_count": 13,
   "metadata": {},
   "outputs": [
    {
     "data": {
      "text/plain": [
       "(376, 6)"
      ]
     },
     "execution_count": 13,
     "metadata": {},
     "output_type": "execute_result"
    }
   ],
   "source": [
    "#How many sellers gives Olist negative profit?\n",
    "df4[df4['profit']<0].shape"
   ]
  },
  {
   "cell_type": "code",
   "execution_count": 14,
   "metadata": {},
   "outputs": [
    {
     "data": {
      "text/plain": [
       "Text(0.5, 0, 'seller id')"
      ]
     },
     "execution_count": 14,
     "metadata": {},
     "output_type": "execute_result"
    },
    {
     "data": {
      "image/png": "[encoded data removed]",
      "text/plain": [
       "<Figure size 720x360 with 1 Axes>"
      ]
     },
     "metadata": {
      "needs_background": "light"
     },
     "output_type": "display_data"
    }
   ],
   "source": [
    "df5 = df4.sort_values(by='profit')[['profit', 'n_orders', 'revenues']].reset_index()\n",
    "df5.head()\n",
    "\n",
    "plt.figure(figsize=(10,5))\n",
    "df5.profit.plot()\n",
    "plt.title('gross profit per seller')\n",
    "plt.xlabel('seller id')"
   ]
  },
  {
   "cell_type": "code",
   "execution_count": 15,
   "metadata": {},
   "outputs": [],
   "source": [
    "#IT cost"
   ]
  },
  {
   "cell_type": "code",
   "execution_count": 16,
   "metadata": {},
   "outputs": [],
   "source": [
    "#Obsolete the bad review seller or raise the membership fee"
   ]
  },
  {
   "cell_type": "markdown",
   "metadata": {},
   "source": [
    "- Dataset\n",
    "\n",
    "The dataset consists of 99k orders from 2016-09-04 and 2018-10-17 "
   ]
  },
  {
   "cell_type": "code",
   "execution_count": null,
   "metadata": {},
   "outputs": [],
   "source": [
    "#Suggestion. Questionnair? Data sampling? (low R2...)\n",
    "\n",
    "#Impact of cutting the non profible seller(1) Prio"
   ]
  }
 ],
 "metadata": {
  "kernelspec": {
   "display_name": "Python 3 (ipykernel)",
   "language": "python",
   "name": "python3"
  },
  "language_info": {
   "codemirror_mode": {
    "name": "ipython",
    "version": 3
   },
   "file_extension": ".py",
   "mimetype": "text/x-python",
   "name": "python",
   "nbconvert_exporter": "python",
   "pygments_lexer": "ipython3",
   "version": "3.8.12"
  },
  "toc": {
   "base_numbering": 1,
   "nav_menu": {},
   "number_sections": false,
   "sideBar": true,
   "skip_h1_title": false,
   "title_cell": "Table of Contents",
   "title_sidebar": "Contents",
   "toc_cell": false,
   "toc_position": {},
   "toc_section_display": true,
   "toc_window_display": false
  }
 },
 "nbformat": 4,
 "nbformat_minor": 4
}
